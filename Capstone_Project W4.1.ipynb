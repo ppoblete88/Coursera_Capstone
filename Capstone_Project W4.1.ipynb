{
    "cells": [
        {
            "metadata": {
                "collapsed": true
            },
            "cell_type": "markdown",
            "source": "# Housing Sales Prices & Venues in D\u00fcsseldorf"
        },
        {
            "metadata": {},
            "cell_type": "markdown",
            "source": "## Data Description"
        },
        {
            "metadata": {},
            "cell_type": "markdown",
            "source": "There are two main sources of the data\n\nA wikipedia table containing information about the city of Duesseldorf: https://de.wikipedia.org/wiki/Liste_der_Stadtteile_von_D%C3%BCsseldorf\n\nA table built with the range of costs per square meter of Apartments in every Stadtteil\nThe rest of the information will be adquired through different means as the project advances."
        }
    ],
    "metadata": {
        "kernelspec": {
            "name": "python3",
            "display_name": "Python 3.7",
            "language": "python"
        },
        "language_info": {
            "name": "python",
            "version": "3.7.10",
            "mimetype": "text/x-python",
            "codemirror_mode": {
                "name": "ipython",
                "version": 3
            },
            "pygments_lexer": "ipython3",
            "nbconvert_exporter": "python",
            "file_extension": ".py"
        }
    },
    "nbformat": 4,
    "nbformat_minor": 1
}