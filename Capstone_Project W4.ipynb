{
    "cells": [
        {
            "metadata": {
                "collapsed": true
            },
            "cell_type": "markdown",
            "source": "# Housing Sales Prices & Venues in D\u00fcsseldorf"
        },
        {
            "metadata": {},
            "cell_type": "markdown",
            "source": "## Description & Disscusion of the Background"
        },
        {
            "metadata": {},
            "cell_type": "markdown",
            "source": "This project is part of the final course of the IBM Data Science professional certificate: Applied Data Science Capstone. Duesseldorf is the 6th largest city in Germany. With a population of 600.000 citizens, it is home to a large community of immigrants. One person out of 6 currently living in Duesseldorf was born outside of Germany. It is one of the reasons why we chose to relocate here with my wife.\n\nThe city is divided in ten regions, called 'Bezirk', which are also divided in smaller regions, neighborhoods, called 'Stadtteil'.\n\nOne of the first things we noticed when we moved to Germany, is that there is a huge amount of Flower stores, and that people consumes Ice Cream even during really cold days. These two things are radically different from where we come from. So, while thinking about topics for the current project, it occurred to us to try to figure out if there is a correlation between the amount of Ice Cream and Flower Sale Venues with the Property prices in every Stadtteil in Duesseldorf? To answer that question will be main objective of this project. Hopefully, it will also help other people who move into the city understand a litlle bit more about the local customs."
        }
    ],
    "metadata": {
        "kernelspec": {
            "name": "python3",
            "display_name": "Python 3.7",
            "language": "python"
        },
        "language_info": {
            "name": "python",
            "version": "3.7.10",
            "mimetype": "text/x-python",
            "codemirror_mode": {
                "name": "ipython",
                "version": 3
            },
            "pygments_lexer": "ipython3",
            "nbconvert_exporter": "python",
            "file_extension": ".py"
        }
    },
    "nbformat": 4,
    "nbformat_minor": 1
}
